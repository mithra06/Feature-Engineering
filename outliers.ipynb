{
 "cells": [
  {
   "cell_type": "code",
   "execution_count": 27,
   "metadata": {},
   "outputs": [],
   "source": [
    "import pandas as pd\n",
    "import numpy as np\n",
    "import seaborn as sns"
   ]
  },
  {
   "cell_type": "code",
   "execution_count": 28,
   "metadata": {},
   "outputs": [],
   "source": [
    "df=pd.read_csv('titanic.csv')"
   ]
  },
  {
   "cell_type": "code",
   "execution_count": 29,
   "metadata": {},
   "outputs": [
    {
     "data": {
      "text/html": [
       "<div>\n",
       "<style scoped>\n",
       "    .dataframe tbody tr th:only-of-type {\n",
       "        vertical-align: middle;\n",
       "    }\n",
       "\n",
       "    .dataframe tbody tr th {\n",
       "        vertical-align: top;\n",
       "    }\n",
       "\n",
       "    .dataframe thead th {\n",
       "        text-align: right;\n",
       "    }\n",
       "</style>\n",
       "<table border=\"1\" class=\"dataframe\">\n",
       "  <thead>\n",
       "    <tr style=\"text-align: right;\">\n",
       "      <th></th>\n",
       "      <th>PassengerId</th>\n",
       "      <th>Survived</th>\n",
       "      <th>Pclass</th>\n",
       "      <th>Name</th>\n",
       "      <th>Sex</th>\n",
       "      <th>Age</th>\n",
       "      <th>SibSp</th>\n",
       "      <th>Parch</th>\n",
       "      <th>Ticket</th>\n",
       "      <th>Fare</th>\n",
       "      <th>Cabin</th>\n",
       "      <th>Embarked</th>\n",
       "    </tr>\n",
       "  </thead>\n",
       "  <tbody>\n",
       "    <tr>\n",
       "      <th>0</th>\n",
       "      <td>1</td>\n",
       "      <td>0</td>\n",
       "      <td>3</td>\n",
       "      <td>Braund, Mr. Owen Harris</td>\n",
       "      <td>male</td>\n",
       "      <td>22.0</td>\n",
       "      <td>1</td>\n",
       "      <td>0</td>\n",
       "      <td>A/5 21171</td>\n",
       "      <td>7.2500</td>\n",
       "      <td>NaN</td>\n",
       "      <td>S</td>\n",
       "    </tr>\n",
       "    <tr>\n",
       "      <th>1</th>\n",
       "      <td>2</td>\n",
       "      <td>1</td>\n",
       "      <td>1</td>\n",
       "      <td>Cumings, Mrs. John Bradley (Florence Briggs Th...</td>\n",
       "      <td>female</td>\n",
       "      <td>38.0</td>\n",
       "      <td>1</td>\n",
       "      <td>0</td>\n",
       "      <td>PC 17599</td>\n",
       "      <td>71.2833</td>\n",
       "      <td>C85</td>\n",
       "      <td>C</td>\n",
       "    </tr>\n",
       "    <tr>\n",
       "      <th>2</th>\n",
       "      <td>3</td>\n",
       "      <td>1</td>\n",
       "      <td>3</td>\n",
       "      <td>Heikkinen, Miss. Laina</td>\n",
       "      <td>female</td>\n",
       "      <td>26.0</td>\n",
       "      <td>0</td>\n",
       "      <td>0</td>\n",
       "      <td>STON/O2. 3101282</td>\n",
       "      <td>7.9250</td>\n",
       "      <td>NaN</td>\n",
       "      <td>S</td>\n",
       "    </tr>\n",
       "    <tr>\n",
       "      <th>3</th>\n",
       "      <td>4</td>\n",
       "      <td>1</td>\n",
       "      <td>1</td>\n",
       "      <td>Futrelle, Mrs. Jacques Heath (Lily May Peel)</td>\n",
       "      <td>female</td>\n",
       "      <td>35.0</td>\n",
       "      <td>1</td>\n",
       "      <td>0</td>\n",
       "      <td>113803</td>\n",
       "      <td>53.1000</td>\n",
       "      <td>C123</td>\n",
       "      <td>S</td>\n",
       "    </tr>\n",
       "    <tr>\n",
       "      <th>4</th>\n",
       "      <td>5</td>\n",
       "      <td>0</td>\n",
       "      <td>3</td>\n",
       "      <td>Allen, Mr. William Henry</td>\n",
       "      <td>male</td>\n",
       "      <td>35.0</td>\n",
       "      <td>0</td>\n",
       "      <td>0</td>\n",
       "      <td>373450</td>\n",
       "      <td>8.0500</td>\n",
       "      <td>NaN</td>\n",
       "      <td>S</td>\n",
       "    </tr>\n",
       "  </tbody>\n",
       "</table>\n",
       "</div>"
      ],
      "text/plain": [
       "   PassengerId  Survived  Pclass  \\\n",
       "0            1         0       3   \n",
       "1            2         1       1   \n",
       "2            3         1       3   \n",
       "3            4         1       1   \n",
       "4            5         0       3   \n",
       "\n",
       "                                                Name     Sex   Age  SibSp  \\\n",
       "0                            Braund, Mr. Owen Harris    male  22.0      1   \n",
       "1  Cumings, Mrs. John Bradley (Florence Briggs Th...  female  38.0      1   \n",
       "2                             Heikkinen, Miss. Laina  female  26.0      0   \n",
       "3       Futrelle, Mrs. Jacques Heath (Lily May Peel)  female  35.0      1   \n",
       "4                           Allen, Mr. William Henry    male  35.0      0   \n",
       "\n",
       "   Parch            Ticket     Fare Cabin Embarked  \n",
       "0      0         A/5 21171   7.2500   NaN        S  \n",
       "1      0          PC 17599  71.2833   C85        C  \n",
       "2      0  STON/O2. 3101282   7.9250   NaN        S  \n",
       "3      0            113803  53.1000  C123        S  \n",
       "4      0            373450   8.0500   NaN        S  "
      ]
     },
     "execution_count": 29,
     "metadata": {},
     "output_type": "execute_result"
    }
   ],
   "source": [
    "df.head()"
   ]
  },
  {
   "cell_type": "code",
   "execution_count": 30,
   "metadata": {},
   "outputs": [
    {
     "data": {
      "text/plain": [
       "177"
      ]
     },
     "execution_count": 30,
     "metadata": {},
     "output_type": "execute_result"
    }
   ],
   "source": [
    "df['Age'].isnull().sum()"
   ]
  },
  {
   "cell_type": "code",
   "execution_count": 31,
   "metadata": {},
   "outputs": [
    {
     "data": {
      "text/plain": [
       "<matplotlib.axes._subplots.AxesSubplot at 0x2bf1730>"
      ]
     },
     "execution_count": 31,
     "metadata": {},
     "output_type": "execute_result"
    },
    {
     "data": {
      "image/png": "[encoded data removed]",
      "text/plain": [
       "<Figure size 432x288 with 1 Axes>"
      ]
     },
     "metadata": {
      "needs_background": "light"
     },
     "output_type": "display_data"
    }
   ],
   "source": [
    "sns.distplot(df['Age'].dropna())"
   ]
  },
  {
   "cell_type": "code",
   "execution_count": 32,
   "metadata": {},
   "outputs": [
    {
     "data": {
      "text/plain": [
       "<matplotlib.axes._subplots.AxesSubplot at 0x404f350>"
      ]
     },
     "execution_count": 32,
     "metadata": {},
     "output_type": "execute_result"
    },
    {
     "data": {
      "image/png": "[encoded data removed]",
      "text/plain": [
       "<Figure size 432x288 with 1 Axes>"
      ]
     },
     "metadata": {
      "needs_background": "light"
     },
     "output_type": "display_data"
    }
   ],
   "source": [
    "sns.distplot(df['Age'].fillna(100))"
   ]
  },
  {
   "cell_type": "markdown",
   "metadata": {},
   "source": [
    "above graph is an gausian or normal distribution.so we should use this"
   ]
  },
  {
   "cell_type": "markdown",
   "metadata": {},
   "source": [
    "# gaussian distribution"
   ]
  },
  {
   "cell_type": "code",
   "execution_count": 33,
   "metadata": {},
   "outputs": [],
   "source": [
    "import matplotlib.pyplot as plt\n",
    "%matplotlib inline"
   ]
  },
  {
   "cell_type": "code",
   "execution_count": 34,
   "metadata": {},
   "outputs": [
    {
     "data": {
      "text/plain": [
       "Text(0, 0.5, 'passenger')"
      ]
     },
     "execution_count": 34,
     "metadata": {},
     "output_type": "execute_result"
    },
    {
     "data": {
      "image/png": "[encoded data removed]",
      "text/plain": [
       "<Figure size 432x288 with 1 Axes>"
      ]
     },
     "metadata": {
      "needs_background": "light"
     },
     "output_type": "display_data"
    }
   ],
   "source": [
    "fig=df.Age.hist(bins=50)\n",
    "fig.set_title('age')\n",
    "fig.set_xlabel('Age')\n",
    "fig.set_ylabel('passenger')\n"
   ]
  },
  {
   "cell_type": "code",
   "execution_count": 35,
   "metadata": {},
   "outputs": [
    {
     "data": {
      "image/png": "[encoded data removed]",
      "text/plain": [
       "<Figure size 432x288 with 1 Axes>"
      ]
     },
     "metadata": {
      "needs_background": "light"
     },
     "output_type": "display_data"
    }
   ],
   "source": [
    "fig=df.boxplot(column='Age')"
   ]
  },
  {
   "cell_type": "code",
   "execution_count": 36,
   "metadata": {},
   "outputs": [
    {
     "data": {
      "text/plain": [
       "count    714.000000\n",
       "mean      29.699118\n",
       "std       14.526497\n",
       "min        0.420000\n",
       "25%       20.125000\n",
       "50%       28.000000\n",
       "75%       38.000000\n",
       "max       80.000000\n",
       "Name: Age, dtype: float64"
      ]
     },
     "execution_count": 36,
     "metadata": {},
     "output_type": "execute_result"
    }
   ],
   "source": [
    "df['Age'].describe()"
   ]
  },
  {
   "cell_type": "code",
   "execution_count": 37,
   "metadata": {},
   "outputs": [
    {
     "data": {
      "text/plain": [
       "29.69911764705882"
      ]
     },
     "execution_count": 37,
     "metadata": {},
     "output_type": "execute_result"
    }
   ],
   "source": [
    "df['Age'].mean()"
   ]
  },
  {
   "cell_type": "code",
   "execution_count": 38,
   "metadata": {},
   "outputs": [
    {
     "name": "stdout",
     "output_type": "stream",
     "text": [
      "73.27860964406095\n",
      "-13.88037434994331\n"
     ]
    },
    {
     "data": {
      "text/plain": [
       "(None, None)"
      ]
     },
     "execution_count": 38,
     "metadata": {},
     "output_type": "execute_result"
    }
   ],
   "source": [
    "upper=df['Age'].mean()+3*df['Age'].std()\n",
    "lower=df['Age'].mean()-3*df['Age'].std()\n",
    "print(upper),print(lower)"
   ]
  },
  {
   "cell_type": "code",
   "execution_count": 39,
   "metadata": {},
   "outputs": [],
   "source": [
    "data=df.copy()"
   ]
  },
  {
   "cell_type": "code",
   "execution_count": 40,
   "metadata": {},
   "outputs": [
    {
     "data": {
      "text/plain": [
       "<matplotlib.axes._subplots.AxesSubplot at 0x416d7d0>"
      ]
     },
     "execution_count": 40,
     "metadata": {},
     "output_type": "execute_result"
    },
    {
     "data": {
      "image/png": "[encoded data removed]",
      "text/plain": [
       "<Figure size 432x288 with 1 Axes>"
      ]
     },
     "metadata": {
      "needs_background": "light"
     },
     "output_type": "display_data"
    }
   ],
   "source": [
    "sns.distplot(data['Age'].fillna(100))"
   ]
  },
  {
   "cell_type": "code",
   "execution_count": 41,
   "metadata": {},
   "outputs": [],
   "source": [
    "data.loc[data['Age']>=73,'Age']=73"
   ]
  },
  {
   "cell_type": "code",
   "execution_count": 43,
   "metadata": {},
   "outputs": [
    {
     "data": {
      "text/plain": [
       "Text(0, 0.5, 'passenger')"
      ]
     },
     "execution_count": 43,
     "metadata": {},
     "output_type": "execute_result"
    },
    {
     "data": {
      "image/png": "[encoded data removed]",
      "text/plain": [
       "<Figure size 432x288 with 1 Axes>"
      ]
     },
     "metadata": {
      "needs_background": "light"
     },
     "output_type": "display_data"
    }
   ],
   "source": [
    "fig=data.Age.hist(bins=50)\n",
    "fig.set_title('age')\n",
    "fig.set_xlabel('Age')\n",
    "fig.set_ylabel('passenger')"
   ]
  },
  {
   "cell_type": "code",
   "execution_count": 44,
   "metadata": {},
   "outputs": [
    {
     "data": {
      "text/plain": [
       "0"
      ]
     },
     "execution_count": 44,
     "metadata": {},
     "output_type": "execute_result"
    }
   ],
   "source": [
    "df['Fare'].isnull().sum()"
   ]
  },
  {
   "cell_type": "code",
   "execution_count": 45,
   "metadata": {},
   "outputs": [
    {
     "data": {
      "text/plain": [
       "<matplotlib.axes._subplots.AxesSubplot at 0x4e65850>"
      ]
     },
     "execution_count": 45,
     "metadata": {},
     "output_type": "execute_result"
    },
    {
     "data": {
      "image/png": "[encoded data removed]",
      "text/plain": [
       "<Figure size 432x288 with 1 Axes>"
      ]
     },
     "metadata": {
      "needs_background": "light"
     },
     "output_type": "display_data"
    }
   ],
   "source": [
    "sns.distplot(df['Fare'])"
   ]
  },
  {
   "cell_type": "markdown",
   "metadata": {},
   "source": [
    "this is skewed.so we should use this technique"
   ]
  },
  {
   "cell_type": "markdown",
   "metadata": {},
   "source": [
    "# interquantile region"
   ]
  },
  {
   "cell_type": "code",
   "execution_count": 46,
   "metadata": {},
   "outputs": [
    {
     "data": {
      "text/plain": [
       "Text(0, 0.5, 'passenger')"
      ]
     },
     "execution_count": 46,
     "metadata": {},
     "output_type": "execute_result"
    },
    {
     "data": {
      "image/png": "[encoded data removed]",
      "text/plain": [
       "<Figure size 432x288 with 1 Axes>"
      ]
     },
     "metadata": {
      "needs_background": "light"
     },
     "output_type": "display_data"
    }
   ],
   "source": [
    "fig=df.Fare.hist(bins=50)\n",
    "fig.set_title('Fare')\n",
    "fig.set_xlabel('Fare')\n",
    "fig.set_ylabel('passenger')"
   ]
  },
  {
   "cell_type": "code",
   "execution_count": 48,
   "metadata": {},
   "outputs": [
    {
     "data": {
      "text/plain": [
       "<matplotlib.axes._subplots.AxesSubplot at 0x2c2f410>"
      ]
     },
     "execution_count": 48,
     "metadata": {},
     "output_type": "execute_result"
    },
    {
     "data": {
      "image/png": "[encoded data removed]",
      "text/plain": [
       "<Figure size 432x288 with 1 Axes>"
      ]
     },
     "metadata": {
      "needs_background": "light"
     },
     "output_type": "display_data"
    }
   ],
   "source": [
    "df.boxplot(column='Fare')"
   ]
  },
  {
   "cell_type": "code",
   "execution_count": 49,
   "metadata": {},
   "outputs": [
    {
     "data": {
      "text/plain": [
       "count    891.000000\n",
       "mean      32.204208\n",
       "std       49.693429\n",
       "min        0.000000\n",
       "25%        7.910400\n",
       "50%       14.454200\n",
       "75%       31.000000\n",
       "max      512.329200\n",
       "Name: Fare, dtype: float64"
      ]
     },
     "execution_count": 49,
     "metadata": {},
     "output_type": "execute_result"
    }
   ],
   "source": [
    "df['Fare'].describe()"
   ]
  },
  {
   "cell_type": "code",
   "execution_count": 52,
   "metadata": {},
   "outputs": [],
   "source": [
    "iqr=df['Fare'].quantile(0.75)-df['Fare'].quantile(0.25)"
   ]
  },
  {
   "cell_type": "code",
   "execution_count": 53,
   "metadata": {},
   "outputs": [
    {
     "name": "stdout",
     "output_type": "stream",
     "text": [
      "65.6344\n",
      "-26.724\n"
     ]
    },
    {
     "data": {
      "text/plain": [
       "(None, None)"
      ]
     },
     "execution_count": 53,
     "metadata": {},
     "output_type": "execute_result"
    }
   ],
   "source": [
    "lower_bridge=df['Fare'].quantile(0.25)-(iqr*1.5)\n",
    "upper_bridge=df['Fare'].quantile(0.75)+(iqr*1.5)\n",
    "print(upper_bridge),print(lower_bridge)"
   ]
  },
  {
   "cell_type": "code",
   "execution_count": 54,
   "metadata": {},
   "outputs": [
    {
     "name": "stdout",
     "output_type": "stream",
     "text": [
      "100.2688\n",
      "-61.358399999999996\n"
     ]
    },
    {
     "data": {
      "text/plain": [
       "(None, None)"
      ]
     },
     "execution_count": 54,
     "metadata": {},
     "output_type": "execute_result"
    }
   ],
   "source": [
    "#extreme outliers\n",
    "lower_bridge=df['Fare'].quantile(0.25)-(iqr*3)\n",
    "upper_bridge=df['Fare'].quantile(0.75)+(iqr*3)\n",
    "print(upper_bridge),print(lower_bridge)"
   ]
  },
  {
   "cell_type": "code",
   "execution_count": 57,
   "metadata": {},
   "outputs": [],
   "source": [
    "data=df.copy()\n",
    "data.loc[data['Fare']>=65,'Fare']=65"
   ]
  },
  {
   "cell_type": "code",
   "execution_count": 58,
   "metadata": {},
   "outputs": [
    {
     "data": {
      "text/plain": [
       "Text(0, 0.5, 'passenger')"
      ]
     },
     "execution_count": 58,
     "metadata": {},
     "output_type": "execute_result"
    },
    {
     "data": {
      "image/png": "[encoded data removed]",
      "text/plain": [
       "<Figure size 432x288 with 1 Axes>"
      ]
     },
     "metadata": {
      "needs_background": "light"
     },
     "output_type": "display_data"
    }
   ],
   "source": [
    "fig=data.Fare.hist(bins=50)\n",
    "fig.set_title('Fare')\n",
    "fig.set_xlabel('Fare')\n",
    "fig.set_ylabel('passenger')"
   ]
  },
  {
   "cell_type": "markdown",
   "metadata": {},
   "source": [
    "now we can use mathematical function to detect the outliers"
   ]
  },
  {
   "cell_type": "markdown",
   "metadata": {},
   "source": [
    "# z score"
   ]
  },
  {
   "cell_type": "code",
   "execution_count": 62,
   "metadata": {},
   "outputs": [
    {
     "name": "stdout",
     "output_type": "stream",
     "text": [
      "[5.02445171e-01 7.86845294e-01 4.88854258e-01 4.20730236e-01\n",
      " 4.86337422e-01 4.78116429e-01 3.95813561e-01 2.24083121e-01\n",
      " 4.24256141e-01 4.29555021e-02 3.12172378e-01 1.13845709e-01\n",
      " 4.86337422e-01 1.87093118e-02 4.90279793e-01 3.26266659e-01\n",
      " 6.19988892e-02 3.86670720e-01 2.85997284e-01 5.02948539e-01\n",
      " 1.24919787e-01 3.86670720e-01 4.86756223e-01 6.63597416e-02\n",
      " 2.24083121e-01 1.64441595e-02 5.02948539e-01 4.64700108e+00\n",
      " 4.89776426e-01 4.89442190e-01 9.02720170e-02 2.30172882e+00\n",
      " 4.92377828e-01 4.37007438e-01 1.00606170e+00 3.98582080e-01\n",
      " 5.02863973e-01 4.86337422e-01 2.85997284e-01 4.22073541e-01\n",
      " 4.57645492e-01 2.25593223e-01 4.89442190e-01 1.88762532e-01\n",
      " 4.89776426e-01 4.86337422e-01 3.36334002e-01 4.92377828e-01\n",
      " 2.11917743e-01 2.90024222e-01 1.50673744e-01 4.91371093e-01\n",
      " 8.96496787e-01 1.24919787e-01 5.99510151e-01 6.63597416e-02\n",
      " 4.37007438e-01 5.02863973e-01 8.96840841e-02 2.95895176e-01\n",
      " 5.02863973e-01 9.62353321e-01 1.03232136e+00 8.66638810e-02\n",
      " 9.02720170e-02 3.41452240e-01 4.37007438e-01 4.84156835e-01\n",
      " 4.88854258e-01 4.74004926e-01 4.37007438e-01 2.95895176e-01\n",
      " 8.31477855e-01 3.57390858e-01 4.89103607e-01 4.94391297e-01\n",
      " 4.89442190e-01 4.86337422e-01 6.45157251e-02 3.97241431e-01\n",
      " 4.67209469e-01 4.57142125e-01 4.91622777e-01 2.99922113e-01\n",
      " 4.37007438e-01 3.29286862e-01 4.37082185e-02 4.86337422e-01\n",
      " 4.64700108e+00 4.86337422e-01 4.86337422e-01 4.90279793e-01\n",
      " 5.83317835e-01 2.34150465e-01 5.02445171e-01 4.86337422e-01\n",
      " 4.93298232e-02 6.27277898e-01 1.85323848e-01 1.24919787e-01\n",
      " 4.89442190e-01 4.89442190e-01 9.07737982e-01 4.74172044e-01\n",
      " 4.88854258e-01 4.89442190e-01 4.94391297e-01 4.91874461e-01\n",
      " 4.89442190e-01 1.62168958e-01 3.98582080e-01 3.57390858e-01\n",
      " 4.86337422e-01 4.50598352e-01 3.57308306e-01 4.88854258e-01\n",
      " 4.92377828e-01 2.25593223e-01 4.33533223e+00 1.87093118e-02\n",
      " 8.31477855e-01 4.86337422e-01 4.29555021e-02 3.86670720e-01\n",
      " 9.07737982e-01 4.22073541e-01 4.92377828e-01 5.04625758e-01\n",
      " 1.98244277e-01 5.07982210e-01 4.89442190e-01 5.06472109e-01\n",
      " 3.56468689e-01 1.24919787e-01 3.86670720e-01 3.45479177e-01\n",
      " 1.19215630e-01 4.20730236e-01 4.62846282e-01 9.46245572e-01\n",
      " 3.41452240e-01 4.92377828e-01 3.29286862e-01 5.12512515e-01\n",
      " 4.16872751e-01 9.15281006e-02 4.91455659e-01 4.37082185e-02\n",
      " 1.24919787e-01 3.86670720e-01 3.96234697e-01 6.92548513e-01\n",
      " 4.86337422e-01 3.56468689e-01 5.01186753e-01 5.87429338e-01\n",
      " 4.92714077e-01 4.86337422e-01 4.74004926e-01 7.51945840e-01\n",
      " 3.24253190e-01 3.31300330e-01 4.91874461e-01 4.74004926e-01\n",
      " 1.50673744e-01 2.35157199e-01 4.58986142e-01 8.66638810e-02\n",
      " 1.26429888e-01 4.89103607e-01 2.60903672e-02 6.19988892e-02\n",
      " 4.24256141e-01 4.88854258e-01 3.03713226e-02 4.90279793e-01\n",
      " 1.35657615e-01 7.03044477e-02 3.86670720e-01 6.48421654e-01\n",
      " 7.51945840e-01 3.45394611e-01 1.64441595e-02 1.36831147e-01\n",
      " 2.04955168e-01 3.58312706e-01 3.36334002e-01 1.13845709e-01\n",
      " 3.36334002e-01 4.89442190e-01 3.86670720e-01 3.86670720e-01\n",
      " 4.90279793e-01 1.24919787e-01 9.02720170e-02 2.30172882e+00\n",
      " 4.92377828e-01 4.79205715e-01 4.92377828e-01 3.86670720e-01\n",
      " 4.57142125e-01 7.51945840e-01 5.17630753e-01 5.02948539e-01\n",
      " 4.86337422e-01 4.37762489e-01 3.29286862e-01 2.70141218e-01\n",
      " 4.92377828e-01 2.42463508e-02 5.06472109e-01 2.25593223e-01\n",
      " 5.02445171e-01 3.86670720e-01 4.92377828e-01 1.63233504e+00\n",
      " 4.88854258e-01 1.04785100e-01 8.87687861e-01 4.37007438e-01\n",
      " 4.86337422e-01 3.86670720e-01 4.86337422e-01 4.89442190e-01\n",
      " 1.16370019e+00 4.60162328e-01 4.37007438e-01 5.02445171e-01\n",
      " 3.86670720e-01 1.35657615e-01 1.03232136e+00 4.91874461e-01\n",
      " 3.76603377e-01 1.64441595e-02 4.37007438e-01 4.96404765e-01\n",
      " 1.24919787e-01 1.19886115e-01 4.37007438e-01 4.01268368e-01\n",
      " 3.57390858e-01 3.36334002e-01 4.37007438e-01 5.04962007e-01\n",
      " 5.02948539e-01 1.16370019e+00 4.91874461e-01 3.56468689e-01\n",
      " 4.09740724e-01 1.24919787e-01 5.02445171e-01 4.37762489e-01\n",
      " 1.13845709e-01 3.24253190e-01 2.41449289e-01 3.41452240e-01\n",
      " 9.46245572e-01 1.09322879e+00 9.66716653e+00 1.24919787e-01\n",
      " 4.92377828e-01 1.64441595e-02 9.55306181e-01 6.48421654e-01\n",
      " 4.92377828e-01 4.37007438e-01 1.50673744e-01 4.91874461e-01\n",
      " 2.44149778e+00 2.08251241e+00 2.42463508e-02 6.48421654e-01\n",
      " 2.55795253e-01 5.04214441e-02 4.92377828e-01 9.21244331e-01\n",
      " 4.92377828e-01 6.48421654e-01 6.19988892e-02 2.40694238e-01\n",
      " 4.92377828e-01 4.90279793e-01 4.57142125e-01 4.86337422e-01\n",
      " 1.24919787e-01 4.74004926e-01 4.57142125e-01 4.89442190e-01\n",
      " 3.86670720e-01 4.92377828e-01 9.39198431e-01 1.18542955e+00\n",
      " 3.89187556e-01 4.70229672e-01 4.89442190e-01 9.02720170e-02\n",
      " 5.02863973e-01 2.40299019e+00 3.43136943e-02 4.33533223e+00\n",
      " 4.92377828e-01 1.80290176e-01 6.48421654e-01 3.99758267e-01\n",
      " 4.86337422e-01 2.40299019e+00 1.58417891e+00 1.54424578e+00\n",
      " 1.65189161e-01 4.97829980e-01 1.02594470e+00 4.63441690e+00\n",
      " 1.24919787e-01 4.89442190e-01 1.19886115e-01 4.90279793e-01\n",
      " 1.24919787e-01 3.66536033e-01 2.67111778e+00 2.05969377e+00\n",
      " 5.02445171e-01 4.89442190e-01 3.99758267e-01 6.45157251e-02\n",
      " 7.51945840e-01 2.08251241e+00 5.22831542e-01 3.86670720e-01\n",
      " 2.35157199e-01 5.18971402e-01 1.80290176e-01 7.45830687e-02\n",
      " 2.44149778e+00 2.85997284e-01 2.04257929e+00 4.89442190e-01\n",
      " 6.92548513e-01 2.05969377e+00 4.86337422e-01 6.63597416e-02\n",
      " 1.24919787e-01 4.64700108e+00 3.86670720e-01 3.86670720e-01\n",
      " 3.86670720e-01 3.86670720e-01 3.86670720e-01 3.24253190e-01\n",
      " 3.28280127e-01 4.74004926e-01 4.62679164e-01 5.62923980e-02\n",
      " 5.02863973e-01 2.90024222e-01 5.02948539e-01 4.57142125e-01\n",
      " 4.58986142e-01 3.86670720e-01 4.89776426e-01 4.89776426e-01\n",
      " 8.66638810e-02 9.02720170e-02 3.57390858e-01 5.06472109e-01\n",
      " 3.36334002e-01 5.02445171e-01 8.66713557e-01 5.02863973e-01\n",
      " 4.92377828e-01 7.46912168e-01 4.67879633e-01 5.17630753e-01\n",
      " 4.86337422e-01 2.08251241e+00 2.24083121e-01 1.00606170e+00\n",
      " 5.02445171e-01 3.61006469e+00 5.67631221e-01 4.91874461e-01\n",
      " 3.93272305e+00 3.31467448e-01 4.88854258e-01 3.98582080e-01\n",
      " 4.89442190e-01 8.31477855e-01 2.95895176e-01 3.86670720e-01\n",
      " 4.92796629e-01 4.06805407e-01 1.76774081e+00 4.91455659e-01\n",
      " 4.88854258e-01 1.63233504e+00 3.12172378e-01 4.91455659e-01\n",
      " 4.90279793e-01 1.24919787e-01 4.37007438e-01 3.93717861e-01\n",
      " 4.88854258e-01 4.86337422e-01 4.50598352e-01 3.29286862e-01\n",
      " 4.74004926e-01 2.25593223e-01 4.92377828e-01 2.70896269e-01\n",
      " 4.91874461e-01 1.35657615e-01 4.89442190e-01 5.10331928e-01\n",
      " 1.16370019e+00 6.48421654e-01 4.88854258e-01 4.86337422e-01\n",
      " 5.95568003e-03 3.86670720e-01 3.86670720e-01 1.62168958e-01\n",
      " 4.89442190e-01 4.92714077e-01 4.89860992e-01 3.58482158e-01\n",
      " 2.41449289e-01 5.02445171e-01 1.24919787e-01 1.24919787e-01\n",
      " 4.92377828e-01 4.86337422e-01 1.13845709e-01 3.24253190e-01\n",
      " 1.24919787e-01 5.04962007e-01 4.77107360e-01 1.76774081e+00\n",
      " 4.37082185e-02 2.70896269e-01 4.64700108e+00 4.37007438e-01\n",
      " 1.19886115e-01 4.57142125e-01 4.91874461e-01 3.86670720e-01\n",
      " 4.85079004e-01 9.99769611e-01 2.55795253e-01 1.13845709e-01\n",
      " 2.60661807e-01 3.43136943e-02 8.96840841e-02 2.46398395e-01\n",
      " 8.96840841e-02 1.14566354e+00 4.86337422e-01 4.89442190e-01\n",
      " 1.13845709e-01 3.95813561e-01 4.37007438e-01 4.92377828e-01\n",
      " 1.13845709e-01 4.86337422e-01 1.26763803e-01 3.86670720e-01\n",
      " 4.86337422e-01 5.06472109e-01 6.48421654e-01 1.13845709e-01\n",
      " 4.92881195e-01 2.60661807e-01 5.02445171e-01 4.74004926e-01\n",
      " 8.96840841e-02 3.70730088e-01 4.50346668e-01 3.98582080e-01\n",
      " 2.25593223e-01 5.06556675e-01 4.96992698e-01 4.01016685e-01\n",
      " 2.95895176e-01 6.48421654e-01 4.86337422e-01 4.55380340e-01\n",
      " 1.18542955e+00 1.35657615e-01 1.16370019e+00 5.04214441e-02\n",
      " 4.86337422e-01 3.28280127e-01 2.46398395e-01 5.02445171e-01\n",
      " 3.43136943e-02 3.48329928e-01 4.86337422e-01 3.57308306e-01\n",
      " 9.27453868e-01 3.44387877e-01 2.40299019e+00 4.91455659e-01\n",
      " 4.74004926e-01 4.92377828e-01 4.94810098e-01 4.55380340e-01\n",
      " 1.09322879e+00 1.54424578e+00 1.24919787e-01 1.13845709e-01\n",
      " 1.94887825e-01 4.89103607e-01 4.92377828e-01 4.86337422e-01\n",
      " 1.19131064e-01 5.47578765e-01 4.97496065e-01 3.65765123e-02\n",
      " 4.37007438e-01 1.62168958e-01 1.24919787e-01 4.89442190e-01\n",
      " 1.23417160e+00 4.89442190e-01 5.02948539e-01 5.18971402e-01\n",
      " 5.02863973e-01 4.92377828e-01 4.37007438e-01 3.81703316e+00\n",
      " 4.88854258e-01 4.16872751e-01 1.24919787e-01 5.02863973e-01\n",
      " 5.02863973e-01 1.98244277e-01 4.74004926e-01 1.19886115e-01\n",
      " 1.13845709e-01 1.49441243e+00 3.56468689e-01 3.48245362e-01\n",
      " 7.81141137e-01 1.87093118e-02 1.87093118e-02 1.24919787e-01\n",
      " 1.49441243e+00 1.24919787e-01 1.24919787e-01 3.69304552e-01\n",
      " 2.35157199e-01 9.15281006e-02 1.58417891e+00 1.24919787e-01\n",
      " 4.90783161e-01 5.02948539e-01 4.91874461e-01 1.13845709e-01\n",
      " 1.48911959e-01 3.93272305e+00 9.55306181e-01 2.98078096e-01\n",
      " 4.92377828e-01 4.89442190e-01 3.76603377e-01 4.86337422e-01\n",
      " 4.86337422e-01 1.62168958e-01 4.89442190e-01 2.24083121e-01\n",
      " 5.02863973e-01 4.90279793e-01 4.37007438e-01 3.88095935e-01\n",
      " 1.17117595e-01 4.92377828e-01 4.86337422e-01 3.56468689e-01\n",
      " 3.86670720e-01 4.77107360e-01 3.57308306e-01 4.88854258e-01\n",
      " 4.43810379e-02 1.58417891e+00 1.24919787e-01 1.59482670e-01\n",
      " 4.72998191e-01 9.55306181e-01 3.46401346e-01 9.46245572e-01\n",
      " 4.86337422e-01 4.86337422e-01 5.04962007e-01 9.27453868e-01\n",
      " 5.02445171e-01 4.92377828e-01 1.24919787e-01 1.62168958e-01\n",
      " 1.60230236e-02 6.48421654e-01 5.02948539e-01 4.97829980e-01\n",
      " 1.04785100e-01 4.89442190e-01 2.05289083e-01 4.86337422e-01\n",
      " 1.13845709e-01 3.35327268e-01 4.89442190e-01 3.43136943e-02\n",
      " 1.88762532e-01 2.44149778e+00 1.87093118e-02 5.06472109e-01\n",
      " 3.36334002e-01 4.92377828e-01 4.86337422e-01 6.60333014e-01\n",
      " 3.58482158e-01 3.24253190e-01 1.36831147e-01 4.37007438e-01\n",
      " 3.57390858e-01 4.09740724e-01 3.31467448e-01 4.90279793e-01\n",
      " 3.24253190e-01 2.34754408e-03 3.99758267e-01 9.21244331e-01\n",
      " 4.89442190e-01 4.92714077e-01 4.43810379e-02 5.06387543e-01\n",
      " 3.43136943e-02 6.48421654e-01 8.66638810e-02 3.86670720e-01\n",
      " 4.88854258e-01 1.19886115e-01 1.50673744e-01 3.24253190e-01\n",
      " 4.90279793e-01 7.46912168e-01 8.66638810e-02 4.89103607e-01\n",
      " 2.60661807e-01 8.96496787e-01 4.89442190e-01 6.63597416e-02\n",
      " 4.96404765e-01 4.96404765e-01 4.89442190e-01 1.85323848e-01\n",
      " 4.78619796e-01 4.90783161e-01 5.12512515e-01 8.31477855e-01\n",
      " 4.89442190e-01 3.36334002e-01 3.86670720e-01 1.63233504e+00\n",
      " 2.04257929e+00 5.02948539e-01 1.33225345e-01 4.97496065e-01\n",
      " 4.88854258e-01 8.31477855e-01 3.86670720e-01 4.91874461e-01\n",
      " 4.86337422e-01 3.98582080e-01 1.36831147e-01 3.98582080e-01\n",
      " 4.37007438e-01 3.86670720e-01 6.48421654e-01 4.91874461e-01\n",
      " 4.86337422e-01 4.50262103e-01 2.95895176e-01 9.66716653e+00\n",
      " 4.84575637e-01 8.96496787e-01 4.62679164e-01 2.95895176e-01\n",
      " 1.36831147e-01 1.88762532e-01 1.50673744e-01 4.43635777e-01\n",
      " 4.91455659e-01 3.60679280e+00 4.99255516e-01 3.78280596e-01\n",
      " 4.89103607e-01 5.02948539e-01 1.13845709e-01 3.76603377e-01\n",
      " 4.86337422e-01 4.92714077e-01 1.58417891e+00 4.94391297e-01\n",
      " 3.93272305e+00 1.19131064e-01 3.57390858e-01 4.92544946e-01\n",
      " 4.90279793e-01 1.24919787e-01 3.76603377e-01 1.19131064e-01\n",
      " 2.40299019e+00 3.41452240e-01 3.48329928e-01 1.13845709e-01\n",
      " 3.98582080e-01 4.57478375e-01 3.86670720e-01 4.94391297e-01\n",
      " 3.93272305e+00 4.37007438e-01 3.36334002e-01 4.91874461e-01\n",
      " 1.60230236e-02 5.06387543e-01 3.86670720e-01 3.86670720e-01\n",
      " 4.20730236e-01 4.74004926e-01 2.25593223e-01 4.92629511e-01\n",
      " 1.24919787e-01 4.88854258e-01 3.60679280e+00 2.70141218e-01\n",
      " 6.48421654e-01 3.86670720e-01 3.86670720e-01 3.24253190e-01\n",
      " 4.37082185e-02 9.66716653e+00 4.89442190e-01 4.89442190e-01\n",
      " 4.43810379e-02 9.39198431e-01 4.63441690e+00 3.24253190e-01\n",
      " 4.88854258e-01 7.81141137e-01 2.40694238e-01 3.86670720e-01\n",
      " 4.20730236e-01 4.92377828e-01 1.85323848e-01 3.97241431e-01\n",
      " 4.57142125e-01 4.89442190e-01 6.60333014e-01 3.56468689e-01\n",
      " 4.91455659e-01 4.16872751e-01 4.86337422e-01 1.09322879e+00\n",
      " 3.56468689e-01 5.04962007e-01 5.02863973e-01 1.76774081e+00\n",
      " 4.91874461e-01 9.21244331e-01 1.48911959e-01 4.92377828e-01\n",
      " 1.62168958e-01 4.80045332e-01 4.57142125e-01 4.90279793e-01\n",
      " 4.37007438e-01 5.02948539e-01 1.85323848e-01 4.92377828e-01\n",
      " 4.92377828e-01 3.97241431e-01 4.92629511e-01 3.60679280e+00\n",
      " 5.02863973e-01 4.99255516e-01 4.43810379e-02 1.76263239e-01\n",
      " 5.06472109e-01 5.02445171e-01 4.97496065e-01 6.19988892e-02\n",
      " 2.34150465e-01 9.46245572e-01 4.92377828e-01 1.24919787e-01\n",
      " 7.51945840e-01 3.03713226e-02 4.89442190e-01 3.86670720e-01\n",
      " 1.26345323e-01 4.73586124e-01 5.02863973e-01 1.62168958e-01\n",
      " 3.86670720e-01 1.19886115e-01 1.76774081e+00 4.76940563e-01\n",
      " 5.07982210e-01 4.91874461e-01 6.48421654e-01 4.91874461e-01\n",
      " 3.86670720e-01 4.20730236e-01 4.89609308e-01 1.62168958e-01\n",
      " 4.37007438e-01 1.87093118e-02 4.86337422e-01 6.48421654e-01\n",
      " 4.88854258e-01 9.66463381e-02 5.18552921e-01 8.66638810e-02\n",
      " 1.23417160e+00 4.74004926e-01 6.48421654e-01 3.97241431e-01\n",
      " 1.50673744e-01 5.08485578e-01 4.89103607e-01 9.66463381e-02\n",
      " 4.92377828e-01 9.62353321e-01 3.57390858e-01 2.70896269e-01\n",
      " 5.02863973e-01 4.90279793e-01 4.81303750e-01 1.02594470e+00\n",
      " 4.74004926e-01 4.86337422e-01 4.89103607e-01 5.04214441e-02\n",
      " 4.88854258e-01 4.37007438e-01 2.42463508e-02 5.18804605e-01\n",
      " 4.74004926e-01 4.96404765e-01 7.51945840e-01 4.89442190e-01\n",
      " 1.60230236e-02 1.14566354e+00 1.87093118e-02 4.91874461e-01\n",
      " 3.41452240e-01 1.44885022e-01 1.24919787e-01 4.60162328e-01\n",
      " 2.67111778e+00 1.13845709e-01 2.60661807e-01 5.02863973e-01\n",
      " 3.64355446e-01 4.16872751e-01 1.26345323e-01 7.51945840e-01\n",
      " 3.86670720e-01 3.86670720e-01 3.69389118e-01 3.68295484e-01\n",
      " 4.57142125e-01 4.24256141e-01 4.89442190e-01 4.09740724e-01\n",
      " 5.47748218e-01 4.67209469e-01 1.65189161e-01 5.02948539e-01\n",
      " 4.50179550e-01 4.89442190e-01 4.89442190e-01 1.02594470e+00\n",
      " 1.24919787e-01 4.89442190e-01 4.36671189e-01 4.37007438e-01\n",
      " 5.06472109e-01 6.19988892e-02 3.86670720e-01 4.43810379e-02\n",
      " 1.76263239e-01 4.43810379e-02 4.92377828e-01]\n"
     ]
    }
   ],
   "source": [
    "from scipy import stats\n",
    "z=np.abs(stats.zscore(df['Fare']))\n",
    "print(z)"
   ]
  },
  {
   "cell_type": "code",
   "execution_count": 64,
   "metadata": {},
   "outputs": [
    {
     "name": "stdout",
     "output_type": "stream",
     "text": [
      "(array([ 27,  88, 118, 258, 299, 311, 341, 377, 380, 438, 527, 557, 679,\n",
      "       689, 700, 716, 730, 737, 742, 779], dtype=int32),)\n"
     ]
    }
   ],
   "source": [
    "print(np.where(z>3))"
   ]
  },
  {
   "cell_type": "code",
   "execution_count": 65,
   "metadata": {},
   "outputs": [
    {
     "data": {
      "text/html": [
       "<div>\n",
       "<style scoped>\n",
       "    .dataframe tbody tr th:only-of-type {\n",
       "        vertical-align: middle;\n",
       "    }\n",
       "\n",
       "    .dataframe tbody tr th {\n",
       "        vertical-align: top;\n",
       "    }\n",
       "\n",
       "    .dataframe thead th {\n",
       "        text-align: right;\n",
       "    }\n",
       "</style>\n",
       "<table border=\"1\" class=\"dataframe\">\n",
       "  <thead>\n",
       "    <tr style=\"text-align: right;\">\n",
       "      <th></th>\n",
       "      <th>PassengerId</th>\n",
       "      <th>Survived</th>\n",
       "      <th>Pclass</th>\n",
       "      <th>Name</th>\n",
       "      <th>Sex</th>\n",
       "      <th>Age</th>\n",
       "      <th>SibSp</th>\n",
       "      <th>Parch</th>\n",
       "      <th>Ticket</th>\n",
       "      <th>Fare</th>\n",
       "      <th>Cabin</th>\n",
       "      <th>Embarked</th>\n",
       "    </tr>\n",
       "  </thead>\n",
       "  <tbody>\n",
       "    <tr>\n",
       "      <th>258</th>\n",
       "      <td>259</td>\n",
       "      <td>1</td>\n",
       "      <td>1</td>\n",
       "      <td>Ward, Miss. Anna</td>\n",
       "      <td>female</td>\n",
       "      <td>35.0</td>\n",
       "      <td>0</td>\n",
       "      <td>0</td>\n",
       "      <td>PC 17755</td>\n",
       "      <td>512.3292</td>\n",
       "      <td>NaN</td>\n",
       "      <td>C</td>\n",
       "    </tr>\n",
       "    <tr>\n",
       "      <th>259</th>\n",
       "      <td>260</td>\n",
       "      <td>1</td>\n",
       "      <td>2</td>\n",
       "      <td>Parrish, Mrs. (Lutie Davis)</td>\n",
       "      <td>female</td>\n",
       "      <td>50.0</td>\n",
       "      <td>0</td>\n",
       "      <td>1</td>\n",
       "      <td>230433</td>\n",
       "      <td>26.0000</td>\n",
       "      <td>NaN</td>\n",
       "      <td>S</td>\n",
       "    </tr>\n",
       "    <tr>\n",
       "      <th>260</th>\n",
       "      <td>261</td>\n",
       "      <td>0</td>\n",
       "      <td>3</td>\n",
       "      <td>Smith, Mr. Thomas</td>\n",
       "      <td>male</td>\n",
       "      <td>NaN</td>\n",
       "      <td>0</td>\n",
       "      <td>0</td>\n",
       "      <td>384461</td>\n",
       "      <td>7.7500</td>\n",
       "      <td>NaN</td>\n",
       "      <td>Q</td>\n",
       "    </tr>\n",
       "    <tr>\n",
       "      <th>261</th>\n",
       "      <td>262</td>\n",
       "      <td>1</td>\n",
       "      <td>3</td>\n",
       "      <td>Asplund, Master. Edvin Rojj Felix</td>\n",
       "      <td>male</td>\n",
       "      <td>3.0</td>\n",
       "      <td>4</td>\n",
       "      <td>2</td>\n",
       "      <td>347077</td>\n",
       "      <td>31.3875</td>\n",
       "      <td>NaN</td>\n",
       "      <td>S</td>\n",
       "    </tr>\n",
       "    <tr>\n",
       "      <th>262</th>\n",
       "      <td>263</td>\n",
       "      <td>0</td>\n",
       "      <td>1</td>\n",
       "      <td>Taussig, Mr. Emil</td>\n",
       "      <td>male</td>\n",
       "      <td>52.0</td>\n",
       "      <td>1</td>\n",
       "      <td>1</td>\n",
       "      <td>110413</td>\n",
       "      <td>79.6500</td>\n",
       "      <td>E67</td>\n",
       "      <td>S</td>\n",
       "    </tr>\n",
       "    <tr>\n",
       "      <th>263</th>\n",
       "      <td>264</td>\n",
       "      <td>0</td>\n",
       "      <td>1</td>\n",
       "      <td>Harrison, Mr. William</td>\n",
       "      <td>male</td>\n",
       "      <td>40.0</td>\n",
       "      <td>0</td>\n",
       "      <td>0</td>\n",
       "      <td>112059</td>\n",
       "      <td>0.0000</td>\n",
       "      <td>B94</td>\n",
       "      <td>S</td>\n",
       "    </tr>\n",
       "    <tr>\n",
       "      <th>264</th>\n",
       "      <td>265</td>\n",
       "      <td>0</td>\n",
       "      <td>3</td>\n",
       "      <td>Henry, Miss. Delia</td>\n",
       "      <td>female</td>\n",
       "      <td>NaN</td>\n",
       "      <td>0</td>\n",
       "      <td>0</td>\n",
       "      <td>382649</td>\n",
       "      <td>7.7500</td>\n",
       "      <td>NaN</td>\n",
       "      <td>Q</td>\n",
       "    </tr>\n",
       "    <tr>\n",
       "      <th>265</th>\n",
       "      <td>266</td>\n",
       "      <td>0</td>\n",
       "      <td>2</td>\n",
       "      <td>Reeves, Mr. David</td>\n",
       "      <td>male</td>\n",
       "      <td>36.0</td>\n",
       "      <td>0</td>\n",
       "      <td>0</td>\n",
       "      <td>C.A. 17248</td>\n",
       "      <td>10.5000</td>\n",
       "      <td>NaN</td>\n",
       "      <td>S</td>\n",
       "    </tr>\n",
       "    <tr>\n",
       "      <th>266</th>\n",
       "      <td>267</td>\n",
       "      <td>0</td>\n",
       "      <td>3</td>\n",
       "      <td>Panula, Mr. Ernesti Arvid</td>\n",
       "      <td>male</td>\n",
       "      <td>16.0</td>\n",
       "      <td>4</td>\n",
       "      <td>1</td>\n",
       "      <td>3101295</td>\n",
       "      <td>39.6875</td>\n",
       "      <td>NaN</td>\n",
       "      <td>S</td>\n",
       "    </tr>\n",
       "    <tr>\n",
       "      <th>267</th>\n",
       "      <td>268</td>\n",
       "      <td>1</td>\n",
       "      <td>3</td>\n",
       "      <td>Persson, Mr. Ernst Ulrik</td>\n",
       "      <td>male</td>\n",
       "      <td>25.0</td>\n",
       "      <td>1</td>\n",
       "      <td>0</td>\n",
       "      <td>347083</td>\n",
       "      <td>7.7750</td>\n",
       "      <td>NaN</td>\n",
       "      <td>S</td>\n",
       "    </tr>\n",
       "    <tr>\n",
       "      <th>268</th>\n",
       "      <td>269</td>\n",
       "      <td>1</td>\n",
       "      <td>1</td>\n",
       "      <td>Graham, Mrs. William Thompson (Edith Junkins)</td>\n",
       "      <td>female</td>\n",
       "      <td>58.0</td>\n",
       "      <td>0</td>\n",
       "      <td>1</td>\n",
       "      <td>PC 17582</td>\n",
       "      <td>153.4625</td>\n",
       "      <td>C125</td>\n",
       "      <td>S</td>\n",
       "    </tr>\n",
       "    <tr>\n",
       "      <th>269</th>\n",
       "      <td>270</td>\n",
       "      <td>1</td>\n",
       "      <td>1</td>\n",
       "      <td>Bissette, Miss. Amelia</td>\n",
       "      <td>female</td>\n",
       "      <td>35.0</td>\n",
       "      <td>0</td>\n",
       "      <td>0</td>\n",
       "      <td>PC 17760</td>\n",
       "      <td>135.6333</td>\n",
       "      <td>C99</td>\n",
       "      <td>S</td>\n",
       "    </tr>\n",
       "    <tr>\n",
       "      <th>270</th>\n",
       "      <td>271</td>\n",
       "      <td>0</td>\n",
       "      <td>1</td>\n",
       "      <td>Cairns, Mr. Alexander</td>\n",
       "      <td>male</td>\n",
       "      <td>NaN</td>\n",
       "      <td>0</td>\n",
       "      <td>0</td>\n",
       "      <td>113798</td>\n",
       "      <td>31.0000</td>\n",
       "      <td>NaN</td>\n",
       "      <td>S</td>\n",
       "    </tr>\n",
       "    <tr>\n",
       "      <th>271</th>\n",
       "      <td>272</td>\n",
       "      <td>1</td>\n",
       "      <td>3</td>\n",
       "      <td>Tornquist, Mr. William Henry</td>\n",
       "      <td>male</td>\n",
       "      <td>25.0</td>\n",
       "      <td>0</td>\n",
       "      <td>0</td>\n",
       "      <td>LINE</td>\n",
       "      <td>0.0000</td>\n",
       "      <td>NaN</td>\n",
       "      <td>S</td>\n",
       "    </tr>\n",
       "    <tr>\n",
       "      <th>272</th>\n",
       "      <td>273</td>\n",
       "      <td>1</td>\n",
       "      <td>2</td>\n",
       "      <td>Mellinger, Mrs. (Elizabeth Anne Maidment)</td>\n",
       "      <td>female</td>\n",
       "      <td>41.0</td>\n",
       "      <td>0</td>\n",
       "      <td>1</td>\n",
       "      <td>250644</td>\n",
       "      <td>19.5000</td>\n",
       "      <td>NaN</td>\n",
       "      <td>S</td>\n",
       "    </tr>\n",
       "    <tr>\n",
       "      <th>273</th>\n",
       "      <td>274</td>\n",
       "      <td>0</td>\n",
       "      <td>1</td>\n",
       "      <td>Natsch, Mr. Charles H</td>\n",
       "      <td>male</td>\n",
       "      <td>37.0</td>\n",
       "      <td>0</td>\n",
       "      <td>1</td>\n",
       "      <td>PC 17596</td>\n",
       "      <td>29.7000</td>\n",
       "      <td>C118</td>\n",
       "      <td>C</td>\n",
       "    </tr>\n",
       "    <tr>\n",
       "      <th>274</th>\n",
       "      <td>275</td>\n",
       "      <td>1</td>\n",
       "      <td>3</td>\n",
       "      <td>Healy, Miss. Hanora \"Nora\"</td>\n",
       "      <td>female</td>\n",
       "      <td>NaN</td>\n",
       "      <td>0</td>\n",
       "      <td>0</td>\n",
       "      <td>370375</td>\n",
       "      <td>7.7500</td>\n",
       "      <td>NaN</td>\n",
       "      <td>Q</td>\n",
       "    </tr>\n",
       "    <tr>\n",
       "      <th>275</th>\n",
       "      <td>276</td>\n",
       "      <td>1</td>\n",
       "      <td>1</td>\n",
       "      <td>Andrews, Miss. Kornelia Theodosia</td>\n",
       "      <td>female</td>\n",
       "      <td>63.0</td>\n",
       "      <td>1</td>\n",
       "      <td>0</td>\n",
       "      <td>13502</td>\n",
       "      <td>77.9583</td>\n",
       "      <td>D7</td>\n",
       "      <td>S</td>\n",
       "    </tr>\n",
       "    <tr>\n",
       "      <th>276</th>\n",
       "      <td>277</td>\n",
       "      <td>0</td>\n",
       "      <td>3</td>\n",
       "      <td>Lindblom, Miss. Augusta Charlotta</td>\n",
       "      <td>female</td>\n",
       "      <td>45.0</td>\n",
       "      <td>0</td>\n",
       "      <td>0</td>\n",
       "      <td>347073</td>\n",
       "      <td>7.7500</td>\n",
       "      <td>NaN</td>\n",
       "      <td>S</td>\n",
       "    </tr>\n",
       "    <tr>\n",
       "      <th>277</th>\n",
       "      <td>278</td>\n",
       "      <td>0</td>\n",
       "      <td>2</td>\n",
       "      <td>Parkes, Mr. Francis \"Frank\"</td>\n",
       "      <td>male</td>\n",
       "      <td>NaN</td>\n",
       "      <td>0</td>\n",
       "      <td>0</td>\n",
       "      <td>239853</td>\n",
       "      <td>0.0000</td>\n",
       "      <td>NaN</td>\n",
       "      <td>S</td>\n",
       "    </tr>\n",
       "    <tr>\n",
       "      <th>278</th>\n",
       "      <td>279</td>\n",
       "      <td>0</td>\n",
       "      <td>3</td>\n",
       "      <td>Rice, Master. Eric</td>\n",
       "      <td>male</td>\n",
       "      <td>7.0</td>\n",
       "      <td>4</td>\n",
       "      <td>1</td>\n",
       "      <td>382652</td>\n",
       "      <td>29.1250</td>\n",
       "      <td>NaN</td>\n",
       "      <td>Q</td>\n",
       "    </tr>\n",
       "    <tr>\n",
       "      <th>279</th>\n",
       "      <td>280</td>\n",
       "      <td>1</td>\n",
       "      <td>3</td>\n",
       "      <td>Abbott, Mrs. Stanton (Rosa Hunt)</td>\n",
       "      <td>female</td>\n",
       "      <td>35.0</td>\n",
       "      <td>1</td>\n",
       "      <td>1</td>\n",
       "      <td>C.A. 2673</td>\n",
       "      <td>20.2500</td>\n",
       "      <td>NaN</td>\n",
       "      <td>S</td>\n",
       "    </tr>\n",
       "    <tr>\n",
       "      <th>280</th>\n",
       "      <td>281</td>\n",
       "      <td>0</td>\n",
       "      <td>3</td>\n",
       "      <td>Duane, Mr. Frank</td>\n",
       "      <td>male</td>\n",
       "      <td>65.0</td>\n",
       "      <td>0</td>\n",
       "      <td>0</td>\n",
       "      <td>336439</td>\n",
       "      <td>7.7500</td>\n",
       "      <td>NaN</td>\n",
       "      <td>Q</td>\n",
       "    </tr>\n",
       "    <tr>\n",
       "      <th>281</th>\n",
       "      <td>282</td>\n",
       "      <td>0</td>\n",
       "      <td>3</td>\n",
       "      <td>Olsson, Mr. Nils Johan Goransson</td>\n",
       "      <td>male</td>\n",
       "      <td>28.0</td>\n",
       "      <td>0</td>\n",
       "      <td>0</td>\n",
       "      <td>347464</td>\n",
       "      <td>7.8542</td>\n",
       "      <td>NaN</td>\n",
       "      <td>S</td>\n",
       "    </tr>\n",
       "    <tr>\n",
       "      <th>282</th>\n",
       "      <td>283</td>\n",
       "      <td>0</td>\n",
       "      <td>3</td>\n",
       "      <td>de Pelsmaeker, Mr. Alfons</td>\n",
       "      <td>male</td>\n",
       "      <td>16.0</td>\n",
       "      <td>0</td>\n",
       "      <td>0</td>\n",
       "      <td>345778</td>\n",
       "      <td>9.5000</td>\n",
       "      <td>NaN</td>\n",
       "      <td>S</td>\n",
       "    </tr>\n",
       "    <tr>\n",
       "      <th>283</th>\n",
       "      <td>284</td>\n",
       "      <td>1</td>\n",
       "      <td>3</td>\n",
       "      <td>Dorking, Mr. Edward Arthur</td>\n",
       "      <td>male</td>\n",
       "      <td>19.0</td>\n",
       "      <td>0</td>\n",
       "      <td>0</td>\n",
       "      <td>A/5. 10482</td>\n",
       "      <td>8.0500</td>\n",
       "      <td>NaN</td>\n",
       "      <td>S</td>\n",
       "    </tr>\n",
       "    <tr>\n",
       "      <th>284</th>\n",
       "      <td>285</td>\n",
       "      <td>0</td>\n",
       "      <td>1</td>\n",
       "      <td>Smith, Mr. Richard William</td>\n",
       "      <td>male</td>\n",
       "      <td>NaN</td>\n",
       "      <td>0</td>\n",
       "      <td>0</td>\n",
       "      <td>113056</td>\n",
       "      <td>26.0000</td>\n",
       "      <td>A19</td>\n",
       "      <td>S</td>\n",
       "    </tr>\n",
       "    <tr>\n",
       "      <th>285</th>\n",
       "      <td>286</td>\n",
       "      <td>0</td>\n",
       "      <td>3</td>\n",
       "      <td>Stankovic, Mr. Ivan</td>\n",
       "      <td>male</td>\n",
       "      <td>33.0</td>\n",
       "      <td>0</td>\n",
       "      <td>0</td>\n",
       "      <td>349239</td>\n",
       "      <td>8.6625</td>\n",
       "      <td>NaN</td>\n",
       "      <td>C</td>\n",
       "    </tr>\n",
       "    <tr>\n",
       "      <th>286</th>\n",
       "      <td>287</td>\n",
       "      <td>1</td>\n",
       "      <td>3</td>\n",
       "      <td>de Mulder, Mr. Theodore</td>\n",
       "      <td>male</td>\n",
       "      <td>30.0</td>\n",
       "      <td>0</td>\n",
       "      <td>0</td>\n",
       "      <td>345774</td>\n",
       "      <td>9.5000</td>\n",
       "      <td>NaN</td>\n",
       "      <td>S</td>\n",
       "    </tr>\n",
       "    <tr>\n",
       "      <th>287</th>\n",
       "      <td>288</td>\n",
       "      <td>0</td>\n",
       "      <td>3</td>\n",
       "      <td>Naidenoff, Mr. Penko</td>\n",
       "      <td>male</td>\n",
       "      <td>22.0</td>\n",
       "      <td>0</td>\n",
       "      <td>0</td>\n",
       "      <td>349206</td>\n",
       "      <td>7.8958</td>\n",
       "      <td>NaN</td>\n",
       "      <td>S</td>\n",
       "    </tr>\n",
       "    <tr>\n",
       "      <th>288</th>\n",
       "      <td>289</td>\n",
       "      <td>1</td>\n",
       "      <td>2</td>\n",
       "      <td>Hosono, Mr. Masabumi</td>\n",
       "      <td>male</td>\n",
       "      <td>42.0</td>\n",
       "      <td>0</td>\n",
       "      <td>0</td>\n",
       "      <td>237798</td>\n",
       "      <td>13.0000</td>\n",
       "      <td>NaN</td>\n",
       "      <td>S</td>\n",
       "    </tr>\n",
       "    <tr>\n",
       "      <th>289</th>\n",
       "      <td>290</td>\n",
       "      <td>1</td>\n",
       "      <td>3</td>\n",
       "      <td>Connolly, Miss. Kate</td>\n",
       "      <td>female</td>\n",
       "      <td>22.0</td>\n",
       "      <td>0</td>\n",
       "      <td>0</td>\n",
       "      <td>370373</td>\n",
       "      <td>7.7500</td>\n",
       "      <td>NaN</td>\n",
       "      <td>Q</td>\n",
       "    </tr>\n",
       "    <tr>\n",
       "      <th>290</th>\n",
       "      <td>291</td>\n",
       "      <td>1</td>\n",
       "      <td>1</td>\n",
       "      <td>Barber, Miss. Ellen \"Nellie\"</td>\n",
       "      <td>female</td>\n",
       "      <td>26.0</td>\n",
       "      <td>0</td>\n",
       "      <td>0</td>\n",
       "      <td>19877</td>\n",
       "      <td>78.8500</td>\n",
       "      <td>NaN</td>\n",
       "      <td>S</td>\n",
       "    </tr>\n",
       "    <tr>\n",
       "      <th>291</th>\n",
       "      <td>292</td>\n",
       "      <td>1</td>\n",
       "      <td>1</td>\n",
       "      <td>Bishop, Mrs. Dickinson H (Helen Walton)</td>\n",
       "      <td>female</td>\n",
       "      <td>19.0</td>\n",
       "      <td>1</td>\n",
       "      <td>0</td>\n",
       "      <td>11967</td>\n",
       "      <td>91.0792</td>\n",
       "      <td>B49</td>\n",
       "      <td>C</td>\n",
       "    </tr>\n",
       "    <tr>\n",
       "      <th>292</th>\n",
       "      <td>293</td>\n",
       "      <td>0</td>\n",
       "      <td>2</td>\n",
       "      <td>Levy, Mr. Rene Jacques</td>\n",
       "      <td>male</td>\n",
       "      <td>36.0</td>\n",
       "      <td>0</td>\n",
       "      <td>0</td>\n",
       "      <td>SC/Paris 2163</td>\n",
       "      <td>12.8750</td>\n",
       "      <td>D</td>\n",
       "      <td>C</td>\n",
       "    </tr>\n",
       "    <tr>\n",
       "      <th>293</th>\n",
       "      <td>294</td>\n",
       "      <td>0</td>\n",
       "      <td>3</td>\n",
       "      <td>Haas, Miss. Aloisia</td>\n",
       "      <td>female</td>\n",
       "      <td>24.0</td>\n",
       "      <td>0</td>\n",
       "      <td>0</td>\n",
       "      <td>349236</td>\n",
       "      <td>8.8500</td>\n",
       "      <td>NaN</td>\n",
       "      <td>S</td>\n",
       "    </tr>\n",
       "    <tr>\n",
       "      <th>294</th>\n",
       "      <td>295</td>\n",
       "      <td>0</td>\n",
       "      <td>3</td>\n",
       "      <td>Mineff, Mr. Ivan</td>\n",
       "      <td>male</td>\n",
       "      <td>24.0</td>\n",
       "      <td>0</td>\n",
       "      <td>0</td>\n",
       "      <td>349233</td>\n",
       "      <td>7.8958</td>\n",
       "      <td>NaN</td>\n",
       "      <td>S</td>\n",
       "    </tr>\n",
       "    <tr>\n",
       "      <th>295</th>\n",
       "      <td>296</td>\n",
       "      <td>0</td>\n",
       "      <td>1</td>\n",
       "      <td>Lewy, Mr. Ervin G</td>\n",
       "      <td>male</td>\n",
       "      <td>NaN</td>\n",
       "      <td>0</td>\n",
       "      <td>0</td>\n",
       "      <td>PC 17612</td>\n",
       "      <td>27.7208</td>\n",
       "      <td>NaN</td>\n",
       "      <td>C</td>\n",
       "    </tr>\n",
       "    <tr>\n",
       "      <th>296</th>\n",
       "      <td>297</td>\n",
       "      <td>0</td>\n",
       "      <td>3</td>\n",
       "      <td>Hanna, Mr. Mansour</td>\n",
       "      <td>male</td>\n",
       "      <td>23.5</td>\n",
       "      <td>0</td>\n",
       "      <td>0</td>\n",
       "      <td>2693</td>\n",
       "      <td>7.2292</td>\n",
       "      <td>NaN</td>\n",
       "      <td>C</td>\n",
       "    </tr>\n",
       "    <tr>\n",
       "      <th>297</th>\n",
       "      <td>298</td>\n",
       "      <td>0</td>\n",
       "      <td>1</td>\n",
       "      <td>Allison, Miss. Helen Loraine</td>\n",
       "      <td>female</td>\n",
       "      <td>2.0</td>\n",
       "      <td>1</td>\n",
       "      <td>2</td>\n",
       "      <td>113781</td>\n",
       "      <td>151.5500</td>\n",
       "      <td>C22 C26</td>\n",
       "      <td>S</td>\n",
       "    </tr>\n",
       "    <tr>\n",
       "      <th>298</th>\n",
       "      <td>299</td>\n",
       "      <td>1</td>\n",
       "      <td>1</td>\n",
       "      <td>Saalfeld, Mr. Adolphe</td>\n",
       "      <td>male</td>\n",
       "      <td>NaN</td>\n",
       "      <td>0</td>\n",
       "      <td>0</td>\n",
       "      <td>19988</td>\n",
       "      <td>30.5000</td>\n",
       "      <td>C106</td>\n",
       "      <td>S</td>\n",
       "    </tr>\n",
       "  </tbody>\n",
       "</table>\n",
       "</div>"
      ],
      "text/plain": [
       "     PassengerId  Survived  Pclass  \\\n",
       "258          259         1       1   \n",
       "259          260         1       2   \n",
       "260          261         0       3   \n",
       "261          262         1       3   \n",
       "262          263         0       1   \n",
       "263          264         0       1   \n",
       "264          265         0       3   \n",
       "265          266         0       2   \n",
       "266          267         0       3   \n",
       "267          268         1       3   \n",
       "268          269         1       1   \n",
       "269          270         1       1   \n",
       "270          271         0       1   \n",
       "271          272         1       3   \n",
       "272          273         1       2   \n",
       "273          274         0       1   \n",
       "274          275         1       3   \n",
       "275          276         1       1   \n",
       "276          277         0       3   \n",
       "277          278         0       2   \n",
       "278          279         0       3   \n",
       "279          280         1       3   \n",
       "280          281         0       3   \n",
       "281          282         0       3   \n",
       "282          283         0       3   \n",
       "283          284         1       3   \n",
       "284          285         0       1   \n",
       "285          286         0       3   \n",
       "286          287         1       3   \n",
       "287          288         0       3   \n",
       "288          289         1       2   \n",
       "289          290         1       3   \n",
       "290          291         1       1   \n",
       "291          292         1       1   \n",
       "292          293         0       2   \n",
       "293          294         0       3   \n",
       "294          295         0       3   \n",
       "295          296         0       1   \n",
       "296          297         0       3   \n",
       "297          298         0       1   \n",
       "298          299         1       1   \n",
       "\n",
       "                                              Name     Sex   Age  SibSp  \\\n",
       "258                               Ward, Miss. Anna  female  35.0      0   \n",
       "259                    Parrish, Mrs. (Lutie Davis)  female  50.0      0   \n",
       "260                              Smith, Mr. Thomas    male   NaN      0   \n",
       "261              Asplund, Master. Edvin Rojj Felix    male   3.0      4   \n",
       "262                              Taussig, Mr. Emil    male  52.0      1   \n",
       "263                          Harrison, Mr. William    male  40.0      0   \n",
       "264                             Henry, Miss. Delia  female   NaN      0   \n",
       "265                              Reeves, Mr. David    male  36.0      0   \n",
       "266                      Panula, Mr. Ernesti Arvid    male  16.0      4   \n",
       "267                       Persson, Mr. Ernst Ulrik    male  25.0      1   \n",
       "268  Graham, Mrs. William Thompson (Edith Junkins)  female  58.0      0   \n",
       "269                         Bissette, Miss. Amelia  female  35.0      0   \n",
       "270                          Cairns, Mr. Alexander    male   NaN      0   \n",
       "271                   Tornquist, Mr. William Henry    male  25.0      0   \n",
       "272      Mellinger, Mrs. (Elizabeth Anne Maidment)  female  41.0      0   \n",
       "273                          Natsch, Mr. Charles H    male  37.0      0   \n",
       "274                     Healy, Miss. Hanora \"Nora\"  female   NaN      0   \n",
       "275              Andrews, Miss. Kornelia Theodosia  female  63.0      1   \n",
       "276              Lindblom, Miss. Augusta Charlotta  female  45.0      0   \n",
       "277                    Parkes, Mr. Francis \"Frank\"    male   NaN      0   \n",
       "278                             Rice, Master. Eric    male   7.0      4   \n",
       "279               Abbott, Mrs. Stanton (Rosa Hunt)  female  35.0      1   \n",
       "280                               Duane, Mr. Frank    male  65.0      0   \n",
       "281               Olsson, Mr. Nils Johan Goransson    male  28.0      0   \n",
       "282                      de Pelsmaeker, Mr. Alfons    male  16.0      0   \n",
       "283                     Dorking, Mr. Edward Arthur    male  19.0      0   \n",
       "284                     Smith, Mr. Richard William    male   NaN      0   \n",
       "285                            Stankovic, Mr. Ivan    male  33.0      0   \n",
       "286                        de Mulder, Mr. Theodore    male  30.0      0   \n",
       "287                           Naidenoff, Mr. Penko    male  22.0      0   \n",
       "288                           Hosono, Mr. Masabumi    male  42.0      0   \n",
       "289                           Connolly, Miss. Kate  female  22.0      0   \n",
       "290                   Barber, Miss. Ellen \"Nellie\"  female  26.0      0   \n",
       "291        Bishop, Mrs. Dickinson H (Helen Walton)  female  19.0      1   \n",
       "292                         Levy, Mr. Rene Jacques    male  36.0      0   \n",
       "293                            Haas, Miss. Aloisia  female  24.0      0   \n",
       "294                               Mineff, Mr. Ivan    male  24.0      0   \n",
       "295                              Lewy, Mr. Ervin G    male   NaN      0   \n",
       "296                             Hanna, Mr. Mansour    male  23.5      0   \n",
       "297                   Allison, Miss. Helen Loraine  female   2.0      1   \n",
       "298                          Saalfeld, Mr. Adolphe    male   NaN      0   \n",
       "\n",
       "     Parch         Ticket      Fare    Cabin Embarked  \n",
       "258      0       PC 17755  512.3292      NaN        C  \n",
       "259      1         230433   26.0000      NaN        S  \n",
       "260      0         384461    7.7500      NaN        Q  \n",
       "261      2         347077   31.3875      NaN        S  \n",
       "262      1         110413   79.6500      E67        S  \n",
       "263      0         112059    0.0000      B94        S  \n",
       "264      0         382649    7.7500      NaN        Q  \n",
       "265      0     C.A. 17248   10.5000      NaN        S  \n",
       "266      1        3101295   39.6875      NaN        S  \n",
       "267      0         347083    7.7750      NaN        S  \n",
       "268      1       PC 17582  153.4625     C125        S  \n",
       "269      0       PC 17760  135.6333      C99        S  \n",
       "270      0         113798   31.0000      NaN        S  \n",
       "271      0           LINE    0.0000      NaN        S  \n",
       "272      1         250644   19.5000      NaN        S  \n",
       "273      1       PC 17596   29.7000     C118        C  \n",
       "274      0         370375    7.7500      NaN        Q  \n",
       "275      0          13502   77.9583       D7        S  \n",
       "276      0         347073    7.7500      NaN        S  \n",
       "277      0         239853    0.0000      NaN        S  \n",
       "278      1         382652   29.1250      NaN        Q  \n",
       "279      1      C.A. 2673   20.2500      NaN        S  \n",
       "280      0         336439    7.7500      NaN        Q  \n",
       "281      0         347464    7.8542      NaN        S  \n",
       "282      0         345778    9.5000      NaN        S  \n",
       "283      0     A/5. 10482    8.0500      NaN        S  \n",
       "284      0         113056   26.0000      A19        S  \n",
       "285      0         349239    8.6625      NaN        C  \n",
       "286      0         345774    9.5000      NaN        S  \n",
       "287      0         349206    7.8958      NaN        S  \n",
       "288      0         237798   13.0000      NaN        S  \n",
       "289      0         370373    7.7500      NaN        Q  \n",
       "290      0          19877   78.8500      NaN        S  \n",
       "291      0          11967   91.0792      B49        C  \n",
       "292      0  SC/Paris 2163   12.8750        D        C  \n",
       "293      0         349236    8.8500      NaN        S  \n",
       "294      0         349233    7.8958      NaN        S  \n",
       "295      0       PC 17612   27.7208      NaN        C  \n",
       "296      0           2693    7.2292      NaN        C  \n",
       "297      2         113781  151.5500  C22 C26        S  \n",
       "298      0          19988   30.5000     C106        S  "
      ]
     },
     "execution_count": 65,
     "metadata": {},
     "output_type": "execute_result"
    }
   ],
   "source": [
    "df.iloc[258:299]"
   ]
  },
  {
   "cell_type": "code",
   "execution_count": null,
   "metadata": {},
   "outputs": [],
   "source": []
  }
 ],
 "metadata": {
  "kernelspec": {
   "display_name": "Python 3",
   "language": "python",
   "name": "python3"
  },
  "language_info": {
   "codemirror_mode": {
    "name": "ipython",
    "version": 3
   },
   "file_extension": ".py",
   "mimetype": "text/x-python",
   "name": "python",
   "nbconvert_exporter": "python",
   "pygments_lexer": "ipython3",
   "version": "3.7.3"
  }
 },
 "nbformat": 4,
 "nbformat_minor": 2
}
